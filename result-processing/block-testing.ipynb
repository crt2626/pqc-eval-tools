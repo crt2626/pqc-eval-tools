{
 "cells": [
  {
   "cell_type": "code",
   "execution_count": null,
   "metadata": {},
   "outputs": [],
   "source": [
    "\"\"\"This notebook is for testing random blocks of code for the scripts\"\"\""
   ]
  },
  {
   "cell_type": "code",
   "execution_count": 2,
   "metadata": {},
   "outputs": [],
   "source": [
    "\"\"\"Importing Modules\"\"\"\n",
    "import pandas as pd\n",
    "import re\n",
    "import os\n",
    "import shutil\n",
    "import sys"
   ]
  },
  {
   "cell_type": "code",
   "execution_count": 10,
   "metadata": {},
   "outputs": [
    {
     "name": "stdout",
     "output_type": "stream",
     "text": [
      "win\n",
      "..\\\\..\\\\\n",
      "..\\\\..\\\\result-processing\\algs\\kem-algs-list.txt\n"
     ]
    }
   ],
   "source": [
    "\"\"\"Testing function that will check the system type\"\"\"\n",
    "\n",
    "# Declaring global variables\n",
    "root_dir = \"\"\n",
    "system_type = \"\"\n",
    "\n",
    "def get_system_type() :\n",
    "    \"\"\"Function for checking the system type and setting root_dir path\"\"\"\n",
    "    global root_dir, system_type\n",
    "    # Checking and storing system type\n",
    "    if sys.platform == \"win32\":\n",
    "        \n",
    "        system_type = \"win\"\n",
    "        print(system_type)\n",
    "        root_dir = r\"..\\\\..\\\\\"\n",
    "        print(root_dir)\n",
    "\n",
    "    else:\n",
    "        system_type = \"linux\"\n",
    "        root_dir = \"/pqc/pqc-eval-tools\"\n",
    "        print(system_type)\n",
    "        print(root_dir)\n",
    "\n",
    "get_system_type()\n",
    "\n",
    "\"\"\"Testing the join path with the the varibale set in the system funciton\"\"\"\n",
    "\n",
    "# Setting alg text file directories\n",
    "# kem_algs_file = root_dir + \"result-processing/algs/kem-algs-list.txt\"\n",
    "# sig_algs_file = root_dir + \"result-processing/algs/sig-algs-list.txt\"\n",
    "\n",
    "kem_algs_file = os.path.join(root_dir, \"result-processing\", \"algs\",\"kem-algs-list.txt\")\n",
    "\n",
    "print(kem_algs_file)"
   ]
  },
  {
   "cell_type": "code",
   "execution_count": null,
   "metadata": {},
   "outputs": [],
   "source": [
    "\"\"\"Testing \"\"\""
   ]
  }
 ],
 "metadata": {
  "kernelspec": {
   "display_name": "Python 3",
   "language": "python",
   "name": "python3"
  },
  "language_info": {
   "codemirror_mode": {
    "name": "ipython",
    "version": 3
   },
   "file_extension": ".py",
   "mimetype": "text/x-python",
   "name": "python",
   "nbconvert_exporter": "python",
   "pygments_lexer": "ipython3",
   "version": "3.9.0"
  },
  "orig_nbformat": 4,
  "vscode": {
   "interpreter": {
    "hash": "11938c6bc6919ae2720b4d5011047913343b08a43b18698fd82dedb0d4417594"
   }
  }
 },
 "nbformat": 4,
 "nbformat_minor": 2
}
